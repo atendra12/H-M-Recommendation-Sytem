{
  "nbformat": 4,
  "nbformat_minor": 0,
  "metadata": {
    "colab": {
      "name": "Co-Rise Recommendation Week1 Project.ipynb",
      "provenance": [],
      "collapsed_sections": [
        "CFNnQfDVGvLo",
        "fq_17oeaHTZi"
      ],
      "toc_visible": true
    },
    "kernelspec": {
      "name": "python3",
      "display_name": "Python 3"
    },
    "language_info": {
      "name": "python"
    }
  },
  "cells": [
    {
      "cell_type": "markdown",
      "source": [
        "# Installing packages\n"
      ],
      "metadata": {
        "id": "8-EhnxkGGlSs"
      }
    },
    {
      "cell_type": "code",
      "source": [
        "!pip install -q tensorflow-recommenders\n",
        "!pip install -q --upgrade tensorflow-datasets\n",
        "!pip install -q scann"
      ],
      "metadata": {
        "colab": {
          "base_uri": "https://localhost:8080/"
        },
        "id": "2W-G9n6CF5Yh",
        "outputId": "8059ea62-ae17-40a5-f574-56c9632570a6"
      },
      "execution_count": 1,
      "outputs": [
        {
          "output_type": "stream",
          "name": "stdout",
          "text": [
            "\u001b[K     |████████████████████████████████| 88 kB 2.8 MB/s \n",
            "\u001b[K     |████████████████████████████████| 511.7 MB 5.6 kB/s \n",
            "\u001b[K     |████████████████████████████████| 438 kB 53.3 MB/s \n",
            "\u001b[K     |████████████████████████████████| 5.8 MB 39.2 MB/s \n",
            "\u001b[K     |████████████████████████████████| 1.6 MB 66.4 MB/s \n",
            "\u001b[K     |████████████████████████████████| 4.3 MB 5.1 MB/s \n",
            "\u001b[K     |████████████████████████████████| 11.2 MB 5.6 MB/s \n",
            "\u001b[?25h"
          ]
        }
      ]
    },
    {
      "cell_type": "markdown",
      "source": [
        "### Importing required library "
      ],
      "metadata": {
        "id": "CFNnQfDVGvLo"
      }
    },
    {
      "cell_type": "code",
      "source": [
        "import pandas as pd\n",
        "import numpy as np\n",
        "import tensorflow as tf\n",
        "import tensorflow_recommenders as tfrs\n",
        "import numpy as np\n",
        "import pandas as pd\n",
        "import seaborn as sns\n",
        "from matplotlib import pyplot as plt\n",
        "from tqdm.notebook import tqdm\n",
        "from pathlib import Path\n",
        "from typing import Dict, Text\n",
        "import random\n",
        "from collections import Counter"
      ],
      "metadata": {
        "id": "Lm23ZM5eG4JO"
      },
      "execution_count": 2,
      "outputs": []
    },
    {
      "cell_type": "code",
      "source": [
        "## loading data in colab\n",
        "!gdown https://drive.google.com/uc?id=1SbdFzlp7HWumwXLauwjeqrgW9M1kKLUp\n",
        "!unzip hmdata.zip"
      ],
      "metadata": {
        "colab": {
          "base_uri": "https://localhost:8080/"
        },
        "id": "UeaQ2IbHG_Ip",
        "outputId": "729d2ebe-631c-4c4a-9874-9122fb7c23a7"
      },
      "execution_count": 4,
      "outputs": [
        {
          "output_type": "stream",
          "name": "stdout",
          "text": [
            "Downloading...\n",
            "From: https://drive.google.com/uc?id=1SbdFzlp7HWumwXLauwjeqrgW9M1kKLUp\n",
            "To: /content/hmdata.zip\n",
            "100% 773M/773M [00:04<00:00, 182MB/s]\n",
            "Archive:  hmdata.zip\n",
            "   creating: hmdata/\n",
            "  inflating: hmdata/customers.csv.zip  \n",
            "  inflating: __MACOSX/hmdata/._customers.csv.zip  \n",
            "  inflating: hmdata/articles.csv.zip  \n",
            "  inflating: __MACOSX/hmdata/._articles.csv.zip  \n",
            "  inflating: hmdata/transactions_train.csv.zip  \n",
            "  inflating: __MACOSX/hmdata/._transactions_train.csv.zip  \n",
            "  inflating: hmdata/sample_submission.csv.zip  \n",
            "  inflating: __MACOSX/hmdata/._sample_submission.csv.zip  \n"
          ]
        }
      ]
    },
    {
      "cell_type": "markdown",
      "source": [
        "### reading data"
      ],
      "metadata": {
        "id": "fq_17oeaHTZi"
      }
    },
    {
      "cell_type": "code",
      "source": [
        "article_df = pd.read_csv(\"hmdata/articles.csv.zip\")\n",
        "customer_df = pd.read_csv(\"hmdata/customers.csv.zip\")\n",
        "transaction_df = pd.read_csv('hmdata/transactions_train.csv.zip')"
      ],
      "metadata": {
        "id": "o_19hAW7HJ4M"
      },
      "execution_count": 5,
      "outputs": []
    },
    {
      "cell_type": "markdown",
      "source": [
        "# Feature Processing"
      ],
      "metadata": {
        "id": "ooBM33maH4Hu"
      }
    },
    {
      "cell_type": "code",
      "source": [
        "def create_age_interval(x):\n",
        "    if x <= 25:\n",
        "        return [16, 25]\n",
        "    elif x <= 35:\n",
        "        return [26, 35]\n",
        "    elif x <= 45:\n",
        "        return [36, 45]\n",
        "    elif x <= 55:\n",
        "        return [46, 55]\n",
        "    elif x <= 65:\n",
        "        return [56, 65]\n",
        "    else:\n",
        "        return [66, 99]\n",
        "\n",
        "customer_df[\"FN\"].fillna(0, inplace=True)\n",
        "customer_df[\"Active\"].fillna(0, inplace=True)\n",
        "\n",
        "# Set unknown the club member status & news frequency\n",
        "customer_df[\"club_member_status\"].fillna(\"UNKNOWN\", inplace=True)\n",
        "\n",
        "customer_df[\"fashion_news_frequency\"] = customer_df[\"fashion_news_frequency\"].replace({\"None\":\"NONE\"})\n",
        "customer_df[\"fashion_news_frequency\"].fillna(\"UNKNOWN\", inplace=True)\n",
        "\n",
        "# Set missing values in age with the median\n",
        "customer_df[\"age\"].fillna(customer_df[\"age\"].median(), inplace=True)\n",
        "customer_df[\"age_interval\"] = customer_df[\"age\"].apply(lambda x: create_age_interval(x))\n",
        "\n",
        "customer_df.head()"
      ],
      "metadata": {
        "colab": {
          "base_uri": "https://localhost:8080/",
          "height": 270
        },
        "id": "OO5-MTTjHYQc",
        "outputId": "6b3841c1-d3d2-4b75-8afe-213004faff3f"
      },
      "execution_count": 6,
      "outputs": [
        {
          "output_type": "execute_result",
          "data": {
            "text/plain": [
              "                                         customer_id   FN  Active  \\\n",
              "0  00000dbacae5abe5e23885899a1fa44253a17956c6d1c3...  0.0     0.0   \n",
              "1  0000423b00ade91418cceaf3b26c6af3dd342b51fd051e...  0.0     0.0   \n",
              "2  000058a12d5b43e67d225668fa1f8d618c13dc232df0ca...  0.0     0.0   \n",
              "3  00005ca1c9ed5f5146b52ac8639a40ca9d57aeff4d1bd2...  0.0     0.0   \n",
              "4  00006413d8573cd20ed7128e53b7b13819fe5cfc2d801f...  1.0     1.0   \n",
              "\n",
              "  club_member_status fashion_news_frequency   age  \\\n",
              "0             ACTIVE                   NONE  49.0   \n",
              "1             ACTIVE                   NONE  25.0   \n",
              "2             ACTIVE                   NONE  24.0   \n",
              "3             ACTIVE                   NONE  54.0   \n",
              "4             ACTIVE              Regularly  52.0   \n",
              "\n",
              "                                         postal_code age_interval  \n",
              "0  52043ee2162cf5aa7ee79974281641c6f11a68d276429a...     [46, 55]  \n",
              "1  2973abc54daa8a5f8ccfe9362140c63247c5eee03f1d93...     [16, 25]  \n",
              "2  64f17e6a330a85798e4998f62d0930d14db8db1c054af6...     [16, 25]  \n",
              "3  5d36574f52495e81f019b680c843c443bd343d5ca5b1c2...     [46, 55]  \n",
              "4  25fa5ddee9aac01b35208d01736e57942317d756b32ddd...     [46, 55]  "
            ],
            "text/html": [
              "\n",
              "  <div id=\"df-b851634c-7329-4824-8bd4-c6c3d1c2f1eb\">\n",
              "    <div class=\"colab-df-container\">\n",
              "      <div>\n",
              "<style scoped>\n",
              "    .dataframe tbody tr th:only-of-type {\n",
              "        vertical-align: middle;\n",
              "    }\n",
              "\n",
              "    .dataframe tbody tr th {\n",
              "        vertical-align: top;\n",
              "    }\n",
              "\n",
              "    .dataframe thead th {\n",
              "        text-align: right;\n",
              "    }\n",
              "</style>\n",
              "<table border=\"1\" class=\"dataframe\">\n",
              "  <thead>\n",
              "    <tr style=\"text-align: right;\">\n",
              "      <th></th>\n",
              "      <th>customer_id</th>\n",
              "      <th>FN</th>\n",
              "      <th>Active</th>\n",
              "      <th>club_member_status</th>\n",
              "      <th>fashion_news_frequency</th>\n",
              "      <th>age</th>\n",
              "      <th>postal_code</th>\n",
              "      <th>age_interval</th>\n",
              "    </tr>\n",
              "  </thead>\n",
              "  <tbody>\n",
              "    <tr>\n",
              "      <th>0</th>\n",
              "      <td>00000dbacae5abe5e23885899a1fa44253a17956c6d1c3...</td>\n",
              "      <td>0.0</td>\n",
              "      <td>0.0</td>\n",
              "      <td>ACTIVE</td>\n",
              "      <td>NONE</td>\n",
              "      <td>49.0</td>\n",
              "      <td>52043ee2162cf5aa7ee79974281641c6f11a68d276429a...</td>\n",
              "      <td>[46, 55]</td>\n",
              "    </tr>\n",
              "    <tr>\n",
              "      <th>1</th>\n",
              "      <td>0000423b00ade91418cceaf3b26c6af3dd342b51fd051e...</td>\n",
              "      <td>0.0</td>\n",
              "      <td>0.0</td>\n",
              "      <td>ACTIVE</td>\n",
              "      <td>NONE</td>\n",
              "      <td>25.0</td>\n",
              "      <td>2973abc54daa8a5f8ccfe9362140c63247c5eee03f1d93...</td>\n",
              "      <td>[16, 25]</td>\n",
              "    </tr>\n",
              "    <tr>\n",
              "      <th>2</th>\n",
              "      <td>000058a12d5b43e67d225668fa1f8d618c13dc232df0ca...</td>\n",
              "      <td>0.0</td>\n",
              "      <td>0.0</td>\n",
              "      <td>ACTIVE</td>\n",
              "      <td>NONE</td>\n",
              "      <td>24.0</td>\n",
              "      <td>64f17e6a330a85798e4998f62d0930d14db8db1c054af6...</td>\n",
              "      <td>[16, 25]</td>\n",
              "    </tr>\n",
              "    <tr>\n",
              "      <th>3</th>\n",
              "      <td>00005ca1c9ed5f5146b52ac8639a40ca9d57aeff4d1bd2...</td>\n",
              "      <td>0.0</td>\n",
              "      <td>0.0</td>\n",
              "      <td>ACTIVE</td>\n",
              "      <td>NONE</td>\n",
              "      <td>54.0</td>\n",
              "      <td>5d36574f52495e81f019b680c843c443bd343d5ca5b1c2...</td>\n",
              "      <td>[46, 55]</td>\n",
              "    </tr>\n",
              "    <tr>\n",
              "      <th>4</th>\n",
              "      <td>00006413d8573cd20ed7128e53b7b13819fe5cfc2d801f...</td>\n",
              "      <td>1.0</td>\n",
              "      <td>1.0</td>\n",
              "      <td>ACTIVE</td>\n",
              "      <td>Regularly</td>\n",
              "      <td>52.0</td>\n",
              "      <td>25fa5ddee9aac01b35208d01736e57942317d756b32ddd...</td>\n",
              "      <td>[46, 55]</td>\n",
              "    </tr>\n",
              "  </tbody>\n",
              "</table>\n",
              "</div>\n",
              "      <button class=\"colab-df-convert\" onclick=\"convertToInteractive('df-b851634c-7329-4824-8bd4-c6c3d1c2f1eb')\"\n",
              "              title=\"Convert this dataframe to an interactive table.\"\n",
              "              style=\"display:none;\">\n",
              "        \n",
              "  <svg xmlns=\"http://www.w3.org/2000/svg\" height=\"24px\"viewBox=\"0 0 24 24\"\n",
              "       width=\"24px\">\n",
              "    <path d=\"M0 0h24v24H0V0z\" fill=\"none\"/>\n",
              "    <path d=\"M18.56 5.44l.94 2.06.94-2.06 2.06-.94-2.06-.94-.94-2.06-.94 2.06-2.06.94zm-11 1L8.5 8.5l.94-2.06 2.06-.94-2.06-.94L8.5 2.5l-.94 2.06-2.06.94zm10 10l.94 2.06.94-2.06 2.06-.94-2.06-.94-.94-2.06-.94 2.06-2.06.94z\"/><path d=\"M17.41 7.96l-1.37-1.37c-.4-.4-.92-.59-1.43-.59-.52 0-1.04.2-1.43.59L10.3 9.45l-7.72 7.72c-.78.78-.78 2.05 0 2.83L4 21.41c.39.39.9.59 1.41.59.51 0 1.02-.2 1.41-.59l7.78-7.78 2.81-2.81c.8-.78.8-2.07 0-2.86zM5.41 20L4 18.59l7.72-7.72 1.47 1.35L5.41 20z\"/>\n",
              "  </svg>\n",
              "      </button>\n",
              "      \n",
              "  <style>\n",
              "    .colab-df-container {\n",
              "      display:flex;\n",
              "      flex-wrap:wrap;\n",
              "      gap: 12px;\n",
              "    }\n",
              "\n",
              "    .colab-df-convert {\n",
              "      background-color: #E8F0FE;\n",
              "      border: none;\n",
              "      border-radius: 50%;\n",
              "      cursor: pointer;\n",
              "      display: none;\n",
              "      fill: #1967D2;\n",
              "      height: 32px;\n",
              "      padding: 0 0 0 0;\n",
              "      width: 32px;\n",
              "    }\n",
              "\n",
              "    .colab-df-convert:hover {\n",
              "      background-color: #E2EBFA;\n",
              "      box-shadow: 0px 1px 2px rgba(60, 64, 67, 0.3), 0px 1px 3px 1px rgba(60, 64, 67, 0.15);\n",
              "      fill: #174EA6;\n",
              "    }\n",
              "\n",
              "    [theme=dark] .colab-df-convert {\n",
              "      background-color: #3B4455;\n",
              "      fill: #D2E3FC;\n",
              "    }\n",
              "\n",
              "    [theme=dark] .colab-df-convert:hover {\n",
              "      background-color: #434B5C;\n",
              "      box-shadow: 0px 1px 3px 1px rgba(0, 0, 0, 0.15);\n",
              "      filter: drop-shadow(0px 1px 2px rgba(0, 0, 0, 0.3));\n",
              "      fill: #FFFFFF;\n",
              "    }\n",
              "  </style>\n",
              "\n",
              "      <script>\n",
              "        const buttonEl =\n",
              "          document.querySelector('#df-b851634c-7329-4824-8bd4-c6c3d1c2f1eb button.colab-df-convert');\n",
              "        buttonEl.style.display =\n",
              "          google.colab.kernel.accessAllowed ? 'block' : 'none';\n",
              "\n",
              "        async function convertToInteractive(key) {\n",
              "          const element = document.querySelector('#df-b851634c-7329-4824-8bd4-c6c3d1c2f1eb');\n",
              "          const dataTable =\n",
              "            await google.colab.kernel.invokeFunction('convertToInteractive',\n",
              "                                                     [key], {});\n",
              "          if (!dataTable) return;\n",
              "\n",
              "          const docLinkHtml = 'Like what you see? Visit the ' +\n",
              "            '<a target=\"_blank\" href=https://colab.research.google.com/notebooks/data_table.ipynb>data table notebook</a>'\n",
              "            + ' to learn more about interactive tables.';\n",
              "          element.innerHTML = '';\n",
              "          dataTable['output_type'] = 'display_data';\n",
              "          await google.colab.output.renderOutput(dataTable, element);\n",
              "          const docLink = document.createElement('div');\n",
              "          docLink.innerHTML = docLinkHtml;\n",
              "          element.appendChild(docLink);\n",
              "        }\n",
              "      </script>\n",
              "    </div>\n",
              "  </div>\n",
              "  "
            ]
          },
          "metadata": {},
          "execution_count": 6
        }
      ]
    },
    {
      "cell_type": "code",
      "source": [
        "# Replace missing values\n",
        "article_df.fillna(value=\"No Description\", inplace=True)"
      ],
      "metadata": {
        "id": "wHdG6oTzH-aL"
      },
      "execution_count": 7,
      "outputs": []
    },
    {
      "cell_type": "code",
      "source": [
        "article_df['article_id'] = article_df['article_id'].astype(str)\n",
        "article_df['article_id'] = article_df['article_id'].apply(lambda x: x.zfill(10))\n",
        "\n",
        "unique_customer_ids = customer_df.customer_id.unique()\n",
        "unique_article_ids = article_df.article_id.unique()\n",
        "\n",
        "article_ds = tf.data.Dataset.from_tensor_slices(dict(article_df[['article_id']]))\n",
        "articles = article_ds.map(lambda x: x['article_id'])"
      ],
      "metadata": {
        "id": "aGP1rgKJICMx"
      },
      "execution_count": 8,
      "outputs": []
    },
    {
      "cell_type": "code",
      "source": [
        "# add 0 in article_id column (string)\n",
        "transaction_df['article_id'] = transaction_df['article_id'].astype(str)\n",
        "transaction_df['article_id'] = transaction_df['article_id'].apply(lambda x: x.zfill(10))"
      ],
      "metadata": {
        "id": "bA18MWAbgjfQ"
      },
      "execution_count": 9,
      "outputs": []
    },
    {
      "cell_type": "code",
      "source": [
        "## merge article data to transaction data\n",
        "articles_for_merge = article_df[['article_id', 'prod_name', 'product_type_name', 'product_group_name', 'index_name']]\n",
        "articles_for_merge = transaction_df[['customer_id', 'article_id', 'price', 't_dat']].merge(articles_for_merge, on='article_id', how='left')\n",
        "articles_for_merge = articles_for_merge.merge(customer_df[['customer_id','age_interval']],on=\"customer_id\", how ='left')"
      ],
      "metadata": {
        "id": "4rIg9c5NfVu5"
      },
      "execution_count": 10,
      "outputs": []
    },
    {
      "cell_type": "code",
      "source": [
        "import gc\n",
        "del transaction_df\n",
        "del customer_df\n",
        "del article_df\n",
        "gc.collect()"
      ],
      "metadata": {
        "colab": {
          "base_uri": "https://localhost:8080/"
        },
        "id": "NqEtIJBIaArE",
        "outputId": "b1a9d5ef-86ab-4d6b-c714-9a25a85be735"
      },
      "execution_count": 16,
      "outputs": [
        {
          "output_type": "execute_result",
          "data": {
            "text/plain": [
              "551"
            ]
          },
          "metadata": {},
          "execution_count": 16
        }
      ]
    },
    {
      "cell_type": "code",
      "source": [
        "## select 6 months data\n",
        "articles_for_merge = articles_for_merge[articles_for_merge['t_dat'] <='2019-03-20']\n",
        "articles_for_merge['age_interval'] = articles_for_merge['age_interval'].astype(str)\n",
        "age_vec = articles_for_merge['age_interval'].unique()\n",
        "\n",
        "train = articles_for_merge[articles_for_merge['t_dat']<='2018-12-20']\n",
        "test = articles_for_merge[articles_for_merge['t_dat'] >='2018-12-20']"
      ],
      "metadata": {
        "id": "P-Uldx7iIKm5"
      },
      "execution_count": 18,
      "outputs": []
    },
    {
      "cell_type": "code",
      "source": [
        "# Recall@k = (# of recommended items @k that are relevant) / (total # of relevant items)\n",
        "def intersection(lst1, lst2):\n",
        "    return list(set(lst1) & set(lst2))\n",
        "\n",
        "def estimateRecall(cg, purchase):\n",
        "    return len(intersection(cg,purchase))/len(purchase)"
      ],
      "metadata": {
        "id": "-dGUV-CvhH8t"
      },
      "execution_count": 19,
      "outputs": []
    },
    {
      "cell_type": "code",
      "source": [
        "c1 = train['customer_id'].to_list()\n",
        "c2 = test['customer_id'].to_list()\n",
        "def intersection(lst1, lst2):\n",
        "    return list(set(lst1) & set(lst2))\n",
        "\n",
        "commonUsers = intersection(c1, c2)\n",
        "\n",
        "print(len(train),len(test),len(c1),len(c2),len(commonUsers))"
      ],
      "metadata": {
        "colab": {
          "base_uri": "https://localhost:8080/"
        },
        "id": "Y8OASHefhVO6",
        "outputId": "2b310b30-a8bd-49fd-b5c4-220c2dc1c990"
      },
      "execution_count": 20,
      "outputs": [
        {
          "output_type": "stream",
          "name": "stdout",
          "text": [
            "3976170 3703537 3976170 3703537 303704\n"
          ]
        }
      ]
    },
    {
      "cell_type": "code",
      "source": [
        "#Candidate Generator 1: random products\n",
        "    \n",
        "def getKCandidatesRandom(u,k):\n",
        "    return random.sample(train['article_id'].to_list(),k)"
      ],
      "metadata": {
        "id": "0ZgmsuSuhjAk"
      },
      "execution_count": 21,
      "outputs": []
    },
    {
      "cell_type": "code",
      "source": [
        "#Candidate Generator 2: top-k popular products based on historic interactions\n",
        "\n",
        "def getTopKCandidatesPopular(u,k):\n",
        "    c = Counter(train['article_id'].to_list())\n",
        "    topPopular = [article for article, count in c.most_common(k)]\n",
        "    return topPopular"
      ],
      "metadata": {
        "id": "I0g0KYQYhjrP"
      },
      "execution_count": 22,
      "outputs": []
    },
    {
      "cell_type": "code",
      "source": [
        "# with the 2 CGs defined, we can now query these CGs for a set of users,\n",
        "# and compute the recall metrics to see how well they perform.\n",
        "\n",
        "def runCandidateGeneration(method,k):\n",
        "    overallRecall = 0\n",
        "    recallList = []\n",
        "    i=0\n",
        "    userSet = commonUsers[0:10]\n",
        "    for u in userSet:\n",
        "        purchaseList = test[test['customer_id']==u]['article_id'].to_list()\n",
        "        cg = method(u,k)\n",
        "        r = estimateRecall(cg,purchaseList)\n",
        "        overallRecall+=r\n",
        "        recallList.append(r)\n",
        "    overallRecall = overallRecall/len(userSet)\n",
        "    return (overallRecall,recallList)"
      ],
      "metadata": {
        "id": "GQFQI5FThnus"
      },
      "execution_count": 23,
      "outputs": []
    },
    {
      "cell_type": "code",
      "source": [
        "# Running metric calculations for the CG 1: random CG, to fetch 100 and 1000 candidates.\n",
        "r, rlist = runCandidateGeneration(getKCandidatesRandom,k=100)\n",
        "print(\"recall for candidate generation at k=100 candidates fetched: \", r)\n",
        "\n",
        "r, rlist = runCandidateGeneration(getKCandidatesRandom,k=1000)\n",
        "print(\"recall for candidate generation at k=1000 candidates fetched: \", r)"
      ],
      "metadata": {
        "colab": {
          "base_uri": "https://localhost:8080/"
        },
        "id": "KnFqp_zbho6_",
        "outputId": "c998dc8b-170f-4be8-81a2-23de75571717"
      },
      "execution_count": 17,
      "outputs": [
        {
          "output_type": "stream",
          "name": "stdout",
          "text": [
            "recall for candidate generation at k=100 candidates fetched:  0.0\n",
            "recall for candidate generation at k=1000 candidates fetched:  0.11754079254079255\n"
          ]
        }
      ]
    },
    {
      "cell_type": "code",
      "source": [
        "# Running metric calculations for CG 2: top popular products CG, to fetch 100 and 1000 candidates.\n",
        "\n",
        "r, rlist = runCandidateGeneration(getTopKCandidatesPopular,k=100)\n",
        "print(\"recall for candidate generation at k=100 candidates fetched: \", r)\n",
        "\n",
        "r, rlist = runCandidateGeneration(getTopKCandidatesPopular,k=1000)\n",
        "print(\"recall for candidate generation at k=1000 candidates fetched: \", r)"
      ],
      "metadata": {
        "colab": {
          "base_uri": "https://localhost:8080/"
        },
        "id": "bEp1O-9mhsoK",
        "outputId": "62ee7485-ad98-4c11-f810-59f10b4fb022"
      },
      "execution_count": 18,
      "outputs": [
        {
          "output_type": "stream",
          "name": "stdout",
          "text": [
            "recall for candidate generation at k=100 candidates fetched:  0.06678321678321678\n",
            "recall for candidate generation at k=1000 candidates fetched:  0.20174825174825176\n"
          ]
        }
      ]
    },
    {
      "cell_type": "markdown",
      "source": [
        "**Goal for this week:**\n",
        "Implement two personalized non-learnt candidate generators:\n",
        "\n",
        "1.   CG personalized to user’s interest\n",
        "2.   Personalized to user’s price sensitivity\n",
        "\n",
        "Once implemented, compare and report recall-k metrics together with the results of the 2 non-personalized CG and two-tower model. Please use k=100, and k=1000 to report the metrics.\n",
        "\n",
        "**[optional] Adding features to two-tower model**\n",
        "The two-tower we implemented just uses the customer-ID and article-ID as features. It'd be good to add additional features about customer and articles as input features and see how the recall@k performance changes."
      ],
      "metadata": {
        "id": "8K57pE8Cihie"
      }
    },
    {
      "cell_type": "code",
      "source": [
        "##Candidate Generator 3: CG personalized to user’s interest\n",
        "\n",
        "def getCandidatesUserinterest(u,k):\n",
        "  \"\"\"\n",
        "  Get candidates for a user based on user's intreset\n",
        "  Definition of Interest may depend on business objective \n",
        "  but for similicity I'm assuming that users Interest can be seen through purchase item category\n",
        "  I'll be using index_name as group mapping for candidates/articles\n",
        "  \"\"\"\n",
        "\n",
        "  ## filter train data and group by index name to get Top category user bought in past\n",
        "  top_category = train[train['customer_id'] == u].groupby(\n",
        "      ['index_name'])['customer_id'].count().sort_values(ascending=False).reset_index().iloc[0,0]\n",
        "  \n",
        "  category_index = Counter(train[train['index_name'] == top_category]['article_id'].to_list())\n",
        "  topPopular = [article for article, count in category_index.most_common(k)]\n",
        "\n",
        "  return topPopular"
      ],
      "metadata": {
        "id": "jCZmC67Kij_l"
      },
      "execution_count": 24,
      "outputs": []
    },
    {
      "cell_type": "code",
      "source": [
        "# Running metric calculations for the CG : CG based on User Interest, to fetch 100 and 1000 candidates.\n",
        "r, rlist = runCandidateGeneration(getCandidatesUserinterest,k=100)\n",
        "print(\"recall for candidate generation at k=100 candidates fetched: \", r)\n",
        "\n",
        "r, rlist = runCandidateGeneration(getCandidatesUserinterest,k=1000)\n",
        "print(\"recall for candidate generation at k=1000 candidates fetched: \", r)"
      ],
      "metadata": {
        "colab": {
          "base_uri": "https://localhost:8080/"
        },
        "id": "y-73XbXElCT0",
        "outputId": "959cfec9-0a8f-4d0a-96a9-229199cd50b8"
      },
      "execution_count": 46,
      "outputs": [
        {
          "output_type": "stream",
          "name": "stdout",
          "text": [
            "recall for candidate generation at k=100 candidates fetched:  0.025874125874125874\n",
            "recall for candidate generation at k=1000 candidates fetched:  0.26223776223776224\n"
          ]
        }
      ]
    },
    {
      "cell_type": "markdown",
      "source": [
        "**Conclusion:** As per above experiment we can see CG based on user's interest performs better than popular CG\n",
        "\n",
        "\n",
        "\n",
        " "
      ],
      "metadata": {
        "id": "PX7vETmZofEt"
      }
    },
    {
      "cell_type": "code",
      "source": [
        "## Candidate Generator 4: CG Personalized to user’s price sensitivity\n",
        "\n",
        "def getCandidatesPriceSensitive(u,k):\n",
        "  \"\"\"\n",
        "  This CG tries to suggest popular candidates within the price range of past transactions\n",
        "  \"\"\"\n",
        "\n",
        "  user_data = train[train['customer_id'] == u]  \n",
        "  min_price = user_data['price'].min()\n",
        "  max_price = user_data['price'].max()\n",
        "\n",
        "  ## selecting popular candidates within price range of customer\n",
        "  category_index = Counter(train[(min_price <= train['price']) & (train['price']<= max_price)]['article_id'].to_list())\n",
        "  top_items = [article for article, count in category_index.most_common(k)]\n",
        "\n",
        "  return top_items"
      ],
      "metadata": {
        "id": "qSUpfBTNn0Ny"
      },
      "execution_count": 25,
      "outputs": []
    },
    {
      "cell_type": "code",
      "source": [
        "# Running metric calculations for the CG : CG based on User Interest, to fetch 100 and 1000 candidates.\n",
        "r, rlist = runCandidateGeneration(getCandidatesPriceSensitive,k=100)\n",
        "print(\"recall for candidate generation at k=100 candidates fetched: \", r)\n",
        "\n",
        "r, rlist = runCandidateGeneration(getCandidatesPriceSensitive,k=1000)\n",
        "print(\"recall for candidate generation at k=1000 candidates fetched: \", r)"
      ],
      "metadata": {
        "colab": {
          "base_uri": "https://localhost:8080/"
        },
        "id": "t_KQgHYErudm",
        "outputId": "5c07b7b1-b4a4-40a4-dc0d-3a4057d9b5c3"
      },
      "execution_count": 71,
      "outputs": [
        {
          "output_type": "stream",
          "name": "stdout",
          "text": [
            "recall for candidate generation at k=100 candidates fetched:  0.075\n",
            "recall for candidate generation at k=1000 candidates fetched:  0.2826923076923077\n"
          ]
        }
      ]
    },
    {
      "cell_type": "markdown",
      "source": [
        "**Conclusion**: As per above experiment we can see CG Personalized to user’s price sensitivity performs better than previous tried CG"
      ],
      "metadata": {
        "id": "OxGDt2zSuF4Q"
      }
    },
    {
      "cell_type": "markdown",
      "source": [
        "**[Optional CG] Adding features to two-tower model**"
      ],
      "metadata": {
        "id": "LXldDddsu001"
      }
    },
    {
      "cell_type": "code",
      "source": [
        "embedding_dimension = 64\n",
        "\n",
        "class customerModel(tf.keras.Model):\n",
        "\n",
        "  def __init__(self):\n",
        "    super().__init__()\n",
        "\n",
        "\n",
        "    self.user_embedding = tf.keras.Sequential([\n",
        "         tf.keras.layers.StringLookup(\n",
        "         vocabulary=unique_customer_ids, mask_token=None),  \n",
        "         tf.keras.layers.Embedding(len(unique_customer_ids) + 1, embedding_dimension)\n",
        "    ])\n",
        "\n",
        "    self.age_embedding = tf.keras.Sequential([\n",
        "         tf.keras.layers.StringLookup(\n",
        "         vocabulary=age_vec, mask_token=None),  \n",
        "         tf.keras.layers.Embedding(len(age_vec) + 1, embedding_dimension)\n",
        "    ])\n",
        "    \n",
        "  def call(self, inputs):\n",
        "\n",
        "    # Take the input dictionary, pass it through each input layer,\n",
        "    # and concatenate the result.\n",
        "    return tf.concat([\n",
        "        self.user_embedding(inputs[\"customer_id\"]),\n",
        "        self.age_embedding(inputs[\"age_interval\"])\n",
        "    ], axis=1)"
      ],
      "metadata": {
        "id": "usnRt8uQF00y"
      },
      "execution_count": 32,
      "outputs": []
    },
    {
      "cell_type": "code",
      "source": [
        "customer_model = tf.keras.Sequential([\n",
        "      customerModel(),\n",
        "      tf.keras.layers.Dense(64, activation='relu')\n",
        "    ])"
      ],
      "metadata": {
        "id": "fyNm3vfSUKiz"
      },
      "execution_count": 33,
      "outputs": []
    },
    {
      "cell_type": "code",
      "source": [
        "article_model = tf.keras.Sequential([\n",
        "  tf.keras.layers.StringLookup(\n",
        "      vocabulary=unique_article_ids, mask_token=None),\n",
        "  tf.keras.layers.Embedding(len(unique_article_ids) + 1, embedding_dimension),\n",
        "  tf.keras.layers.Dense(64, activation='relu')\n",
        "])"
      ],
      "metadata": {
        "id": "ctvRkO3ovUQG"
      },
      "execution_count": 34,
      "outputs": []
    },
    {
      "cell_type": "code",
      "source": [
        "class HandMModel(tfrs.Model):\n",
        "    \n",
        "    def __init__(self, customer_model, article_model):\n",
        "        super().__init__()\n",
        "        self.article_model: tf.keras.Model = article_model\n",
        "        self.customer_model: tf.keras.Model = customer_model\n",
        "        self.task = tfrs.tasks.Retrieval(\n",
        "        metrics=tfrs.metrics.FactorizedTopK(\n",
        "            candidates=articles.batch(128).map(self.article_model),            \n",
        "            ),\n",
        "        )        \n",
        "\n",
        "    def compute_loss(self, features: Dict[str, tf.Tensor], training=False) -> tf.Tensor:\n",
        "    \n",
        "        customer_embeddings = self.customer_model(features)    \n",
        "        article_embeddings = self.article_model(features[\"article_id\"])\n",
        "\n",
        "        # The task computes the loss and the metrics.\n",
        "        return self.task(customer_embeddings, article_embeddings,compute_metrics=not training)"
      ],
      "metadata": {
        "id": "uOAHPxvbvXGB"
      },
      "execution_count": 35,
      "outputs": []
    },
    {
      "cell_type": "code",
      "source": [
        "model = HandMModel(customer_model, article_model)\n",
        "model.compile(optimizer=tf.keras.optimizers.Adagrad(learning_rate=0.1))"
      ],
      "metadata": {
        "id": "dKeIhyuNvbzW"
      },
      "execution_count": 36,
      "outputs": []
    },
    {
      "cell_type": "code",
      "source": [
        "num_epochs = 4\n",
        "train_ds = tf.data.Dataset.from_tensor_slices(dict(train[['customer_id','age_interval','article_id']])).shuffle(100_000).batch(256).cache()\n",
        "history = model.fit(train_ds,epochs=num_epochs, verbose=1)"
      ],
      "metadata": {
        "colab": {
          "base_uri": "https://localhost:8080/"
        },
        "id": "yDbPiEijvicU",
        "outputId": "b06c405e-1bca-4c36-c9a6-b2901d4834d1"
      },
      "execution_count": 37,
      "outputs": [
        {
          "output_type": "stream",
          "name": "stdout",
          "text": [
            "Epoch 1/4\n",
            "WARNING:tensorflow:Layers in a Sequential model should only have a single input tensor. Received: inputs={'customer_id': <tf.Tensor 'IteratorGetNext:2' shape=(None,) dtype=string>, 'age_interval': <tf.Tensor 'IteratorGetNext:0' shape=(None,) dtype=string>, 'article_id': <tf.Tensor 'IteratorGetNext:1' shape=(None,) dtype=string>}. Consider rewriting this model with the Functional API.\n",
            "WARNING:tensorflow:Layers in a Sequential model should only have a single input tensor. Received: inputs={'customer_id': <tf.Tensor 'IteratorGetNext:2' shape=(None,) dtype=string>, 'age_interval': <tf.Tensor 'IteratorGetNext:0' shape=(None,) dtype=string>, 'article_id': <tf.Tensor 'IteratorGetNext:1' shape=(None,) dtype=string>}. Consider rewriting this model with the Functional API.\n",
            "15532/15532 [==============================] - 224s 14ms/step - factorized_top_k/top_1_categorical_accuracy: 0.0000e+00 - factorized_top_k/top_5_categorical_accuracy: 0.0000e+00 - factorized_top_k/top_10_categorical_accuracy: 0.0000e+00 - factorized_top_k/top_50_categorical_accuracy: 0.0000e+00 - factorized_top_k/top_100_categorical_accuracy: 0.0000e+00 - loss: 1235.9876 - regularization_loss: 0.0000e+00 - total_loss: 1235.9876\n",
            "Epoch 2/4\n",
            "15532/15532 [==============================] - 189s 12ms/step - factorized_top_k/top_1_categorical_accuracy: 0.0000e+00 - factorized_top_k/top_5_categorical_accuracy: 0.0000e+00 - factorized_top_k/top_10_categorical_accuracy: 0.0000e+00 - factorized_top_k/top_50_categorical_accuracy: 0.0000e+00 - factorized_top_k/top_100_categorical_accuracy: 0.0000e+00 - loss: 984.7487 - regularization_loss: 0.0000e+00 - total_loss: 984.7487\n",
            "Epoch 3/4\n",
            "15532/15532 [==============================] - 120s 8ms/step - factorized_top_k/top_1_categorical_accuracy: 0.0000e+00 - factorized_top_k/top_5_categorical_accuracy: 0.0000e+00 - factorized_top_k/top_10_categorical_accuracy: 0.0000e+00 - factorized_top_k/top_50_categorical_accuracy: 0.0000e+00 - factorized_top_k/top_100_categorical_accuracy: 0.0000e+00 - loss: 819.0906 - regularization_loss: 0.0000e+00 - total_loss: 819.0906\n",
            "Epoch 4/4\n",
            "15532/15532 [==============================] - 115s 7ms/step - factorized_top_k/top_1_categorical_accuracy: 0.0000e+00 - factorized_top_k/top_5_categorical_accuracy: 0.0000e+00 - factorized_top_k/top_10_categorical_accuracy: 0.0000e+00 - factorized_top_k/top_50_categorical_accuracy: 0.0000e+00 - factorized_top_k/top_100_categorical_accuracy: 0.0000e+00 - loss: 708.9081 - regularization_loss: 0.0000e+00 - total_loss: 708.9081\n"
          ]
        }
      ]
    },
    {
      "cell_type": "code",
      "source": [
        "test_ds = tf.data.Dataset.from_tensor_slices(dict(test.sample(2000)[['customer_id','age_interval','article_id']])).batch(500).cache()\n",
        "model.evaluate(test_ds, return_dict=True)"
      ],
      "metadata": {
        "colab": {
          "base_uri": "https://localhost:8080/"
        },
        "id": "g2y7-ybRvnYo",
        "outputId": "67f92121-dca8-48f9-d6e0-2d3433f0fb0a"
      },
      "execution_count": 38,
      "outputs": [
        {
          "output_type": "stream",
          "name": "stdout",
          "text": [
            "WARNING:tensorflow:Layers in a Sequential model should only have a single input tensor. Received: inputs={'customer_id': <tf.Tensor 'IteratorGetNext:2' shape=(None,) dtype=string>, 'age_interval': <tf.Tensor 'IteratorGetNext:0' shape=(None,) dtype=string>, 'article_id': <tf.Tensor 'IteratorGetNext:1' shape=(None,) dtype=string>}. Consider rewriting this model with the Functional API.\n",
            "4/4 [==============================] - 25s 6s/step - factorized_top_k/top_1_categorical_accuracy: 5.0000e-04 - factorized_top_k/top_5_categorical_accuracy: 0.0030 - factorized_top_k/top_10_categorical_accuracy: 0.0065 - factorized_top_k/top_50_categorical_accuracy: 0.0185 - factorized_top_k/top_100_categorical_accuracy: 0.0265 - loss: 3925.6194 - regularization_loss: 0.0000e+00 - total_loss: 3925.6194\n"
          ]
        },
        {
          "output_type": "execute_result",
          "data": {
            "text/plain": [
              "{'factorized_top_k/top_100_categorical_accuracy': 0.026499999687075615,\n",
              " 'factorized_top_k/top_10_categorical_accuracy': 0.006500000134110451,\n",
              " 'factorized_top_k/top_1_categorical_accuracy': 0.0005000000237487257,\n",
              " 'factorized_top_k/top_50_categorical_accuracy': 0.01850000023841858,\n",
              " 'factorized_top_k/top_5_categorical_accuracy': 0.003000000026077032,\n",
              " 'loss': 3931.68896484375,\n",
              " 'regularization_loss': 0,\n",
              " 'total_loss': 3931.68896484375}"
            ]
          },
          "metadata": {},
          "execution_count": 38
        }
      ]
    },
    {
      "cell_type": "code",
      "source": [
        "CustToAge = dict(zip(articles_for_merge['customer_id'], articles_for_merge['age_interval']))\n",
        "\n",
        "def getTopKCandidates2Tower(u,k):\n",
        "    # Create a model that takes in raw customer features, and\n",
        "    index = tfrs.layers.factorized_top_k.BruteForce(model.customer_model,k)\n",
        "    # recommends articles out of the entire dataset.\n",
        "    index.index_from_dataset(\n",
        "        tf.data.Dataset.zip((articles.batch(1000), articles.batch(1000).map(model.article_model)))\n",
        "    )\n",
        "    _, candidates = index({'customer_id':tf.constant([u]), 'age_interval':tf.constant([CustToAge[u]])})\n",
        "    candidates = candidates.numpy().tolist()[0]\n",
        "    cg = []\n",
        "    for c in candidates:\n",
        "        cg.append(c.decode(\"utf-8\") )\n",
        "    return (cg)"
      ],
      "metadata": {
        "id": "yaar5GP9vqsW"
      },
      "execution_count": 41,
      "outputs": []
    },
    {
      "cell_type": "code",
      "source": [
        "r, rlist = runCandidateGeneration(getTopKCandidates2Tower,k=100)"
      ],
      "metadata": {
        "id": "khC9Wd0RvtTv"
      },
      "execution_count": null,
      "outputs": []
    },
    {
      "cell_type": "code",
      "source": [
        "print(\"recall for candidate generation at k=1000 candidates fetched: \", r)"
      ],
      "metadata": {
        "colab": {
          "base_uri": "https://localhost:8080/"
        },
        "id": "hNYDuEOUs1Ju",
        "outputId": "cfbb861c-b1a5-4fb3-b446-753db8bfff94"
      },
      "execution_count": 46,
      "outputs": [
        {
          "output_type": "stream",
          "name": "stdout",
          "text": [
            "recall for candidate generation at k=1000 candidates fetched:  0.017424242424242425\n"
          ]
        }
      ]
    },
    {
      "cell_type": "code",
      "source": [
        "r, rlist = runCandidateGeneration(getTopKCandidates2Tower,k=1000)"
      ],
      "metadata": {
        "id": "Lxw-VXvjs_3k"
      },
      "execution_count": null,
      "outputs": []
    },
    {
      "cell_type": "code",
      "source": [
        "print(\"recall for candidate generation at k=1000 candidates fetched: \", r)"
      ],
      "metadata": {
        "colab": {
          "base_uri": "https://localhost:8080/"
        },
        "id": "uK1n6tWStVSo",
        "outputId": "8bf03d5f-7fcd-4f61-91ca-fd9f24ec108d"
      },
      "execution_count": 48,
      "outputs": [
        {
          "output_type": "stream",
          "name": "stdout",
          "text": [
            "recall for candidate generation at k=1000 candidates fetched:  0.07622529644268775\n"
          ]
        }
      ]
    },
    {
      "cell_type": "markdown",
      "source": [
        "**Conclusion:** for Two tower Model after inclduing age as extra feature in user feature space below were recall metrics:\n",
        "\n",
        "*   recall for candidate generation at k=1000 candidates fetched:  0.017424242424242425\n",
        "\n",
        "*   recall for candidate generation at k=1000 candidates fetched:  0.07622529644268775\n",
        "\n",
        "\n",
        "\n"
      ],
      "metadata": {
        "id": "Y26_N4gIvCPz"
      }
    }
  ]
}